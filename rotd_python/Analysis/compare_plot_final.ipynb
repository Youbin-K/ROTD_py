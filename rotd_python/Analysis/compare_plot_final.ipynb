{
 "cells": [
  {
   "cell_type": "code",
   "execution_count": 3,
   "id": "ee83690e",
   "metadata": {},
   "outputs": [],
   "source": [
    "import numpy as np\n",
    "import ase\n",
    "#from rotd_py.analysis import *\n",
    "from rotd_py.analysis import get_micro, get_thermal, get_ej_flux, integrate_micro\n",
    "from scipy.integrate import simps\n",
    "import pandas as pd\n",
    "import rotd_py.rotd_math as rotd_math\n",
    "import fileinput\n",
    "#import string\n",
    "\n",
    "def generate_grid(start, interval, factor, num_point):                          \n",
    "    #return the grid needed for simulation                                      \n",
    "    #interval += interval * factor                                              \n",
    "    #start += interval                                                          \n",
    "    #return an numpy array with length of num_point                             \n",
    "    i = 1                                                                       \n",
    "    grid = [start]                                                              \n",
    "    for i in range(1, num_point):                                               \n",
    "        start += interval                                                       \n",
    "        grid.append(start)                                                      \n",
    "        interval = interval*factor                                              \n",
    "    return np.array(grid)                                                       \n",
    "\n",
    "# temperature, energy grid and angular momentum grid                            \n",
    "temperature = generate_grid(10, 10, 1.05, 51)                                   \n",
    "energy = generate_grid(0, 10, 1.05, 169)                                        \n",
    "angular_mom = generate_grid(0, 1, 1.1, 40) "
   ]
  },
  {
   "cell_type": "code",
   "execution_count": 4,
   "id": "83f6632f",
   "metadata": {},
   "outputs": [
    {
     "name": "stdout",
     "output_type": "stream",
     "text": [
      "0\n",
      "1\n",
      "2\n",
      "3\n",
      "4\n",
      "5\n",
      "6\n",
      "7\n",
      "8\n",
      "9\n",
      "10\n",
      "11\n",
      "12\n",
      "13\n",
      "14\n",
      "15\n"
     ]
    }
   ],
   "source": [
    "e_flux = {}\n",
    "num_surfaces = 16\n",
    "for i in range(0, num_surfaces):\n",
    "    print (i)\n",
    "    flux = get_micro('surface_data_v0/surface_'+str(i)+'.dat', len(energy), 0)\n",
    "    e_flux[str(i)]  = flux.copy()"
   ]
  },
  {
   "cell_type": "code",
   "execution_count": 5,
   "id": "15e280b7",
   "metadata": {},
   "outputs": [
    {
     "name": "stdout",
     "output_type": "stream",
     "text": [
      "[2.580e-15 2.926e-15 3.331e-15 3.808e-15 4.372e-15 5.039e-15 5.830e-15\n",
      " 6.772e-15 7.896e-15 9.238e-15 1.085e-14 1.277e-14 1.509e-14 1.788e-14\n",
      " 2.124e-14 2.530e-14 3.020e-14 3.612e-14 4.329e-14 5.198e-14 6.252e-14\n",
      " 7.530e-14 9.081e-14 1.097e-13 1.325e-13 1.604e-13 1.942e-13 2.353e-13\n",
      " 2.854e-13 3.463e-13 4.204e-13 5.106e-13 6.204e-13 7.540e-13 9.168e-13\n",
      " 1.115e-12 1.356e-12 1.650e-12 2.008e-12 2.443e-12 2.973e-12 3.619e-12\n",
      " 4.405e-12 5.362e-12 6.528e-12 7.947e-12 9.674e-12 1.178e-11 1.434e-11\n",
      " 1.745e-11 2.125e-11 2.587e-11 3.149e-11 3.833e-11 4.665e-11 5.678e-11\n",
      " 6.911e-11 8.412e-11 1.024e-10 1.246e-10 1.516e-10 1.845e-10 2.245e-10\n",
      " 2.732e-10 3.324e-10 4.045e-10 4.921e-10 5.987e-10 7.284e-10 8.861e-10\n",
      " 1.078e-09 1.311e-09 1.595e-09 1.940e-09 2.360e-09 2.871e-09 3.492e-09\n",
      " 4.247e-09 5.165e-09 6.282e-09 7.640e-09 9.291e-09 1.130e-08 1.374e-08\n",
      " 1.671e-08 2.032e-08 2.471e-08 3.004e-08 3.653e-08 4.442e-08 5.401e-08\n",
      " 6.567e-08 7.985e-08 9.709e-08 1.180e-07 1.435e-07 1.745e-07 2.122e-07\n",
      " 2.579e-07 3.136e-07 3.813e-07 4.635e-07 5.635e-07 6.851e-07 8.329e-07\n",
      " 1.013e-06 1.231e-06 1.497e-06 1.819e-06 2.212e-06 2.689e-06 3.269e-06\n",
      " 3.973e-06 4.830e-06 5.872e-06 7.138e-06 8.677e-06 1.055e-05 1.282e-05\n",
      " 1.559e-05 1.895e-05 2.303e-05 2.800e-05 3.404e-05 4.137e-05 5.029e-05\n",
      " 6.114e-05 7.432e-05 9.034e-05 1.098e-04 1.335e-04 1.623e-04 1.972e-04\n",
      " 2.398e-04 2.914e-04 3.543e-04 4.306e-04 5.234e-04 6.363e-04 7.734e-04\n",
      " 9.401e-04 1.143e-03 1.389e-03 1.688e-03 2.052e-03 2.495e-03 3.032e-03\n",
      " 3.686e-03 4.480e-03 5.446e-03 6.620e-03 8.047e-03 9.781e-03 1.189e-02\n",
      " 1.445e-02 1.757e-02 2.135e-02 2.595e-02 3.155e-02 3.835e-02 4.661e-02\n",
      " 5.666e-02 6.887e-02 8.371e-02 1.018e-01 1.237e-01 1.503e-01 1.827e-01\n",
      " 2.221e-01]\n"
     ]
    }
   ],
   "source": [
    "print (e_flux[str(i)])"
   ]
  },
  {
   "cell_type": "code",
   "execution_count": 6,
   "id": "fa1bf7cc",
   "metadata": {},
   "outputs": [
    {
     "name": "stdout",
     "output_type": "stream",
     "text": [
      "0      1.290000e-21\n",
      "1      6.531000e-20\n",
      "2      6.315000e-19\n",
      "3      3.015000e-18\n",
      "4      9.892000e-18\n",
      "           ...     \n",
      "164    1.946900e-02\n",
      "165    2.378800e-02\n",
      "166    2.906000e-02\n",
      "167    3.549000e-02\n",
      "168    4.333000e-02\n",
      "Length: 169, dtype: float64\n"
     ]
    }
   ],
   "source": [
    "data = pd.DataFrame(e_flux)\n",
    "min_e_flux =  data.min(axis = 1)\n",
    "print (min_e_flux)"
   ]
  },
  {
   "cell_type": "code",
   "execution_count": 7,
   "id": "c9f7c712",
   "metadata": {},
   "outputs": [
    {
     "name": "stdout",
     "output_type": "stream",
     "text": [
      "[30.76582228 39.70064292 47.90632288 54.95816234 60.83184432 65.49153089\n",
      " 68.85491147 70.8969621  71.70764361 71.47039375 70.41224489 68.76086616\n",
      " 66.71830335 64.44937737 62.0799292  59.70061152 57.37313416 55.13698616\n",
      " 53.01552096 51.02090495 49.15782896 47.42611021 45.82241371 44.34133999\n",
      " 42.97609701 41.71892449 40.56138828 39.49461759 38.50952493 37.59702509\n",
      " 36.74825493 35.95478724 35.2088279  34.50338473 33.83239724 33.19081905\n",
      " 32.57464772 31.98090081 31.40754034 30.85335243 30.31779171 29.80080343\n",
      " 29.3026378  28.82367149 28.36425058 27.92456633 27.50457211 27.10394527\n",
      " 26.72209322 26.35819899 26.01129819]\n"
     ]
    }
   ],
   "source": [
    "# This calls out the integrate_micro function implemented in the analysis.py\n",
    "\n",
    "#print (integrate_micro(min_e_flux, energy, temperature, 9))\n",
    "test = integrate_micro(min_e_flux, energy, temperature, 9)\n",
    "print (test)"
   ]
  },
  {
   "cell_type": "code",
   "execution_count": 8,
   "id": "a7d79bd7",
   "metadata": {},
   "outputs": [],
   "source": [
    "tst_out = open('C_surface_data/tst.out').readlines() #This is the C++ data, with output of tst.out\n",
    "tst_out_me = open('tst_me.out').readlines()\n",
    "\n",
    "# tst_me.out is the test data made by Xi\n",
    "# Made to validate the data, which is not necessary any more.\n",
    "# However, will keep this here, to explain the original overall process"
   ]
  },
  {
   "cell_type": "code",
   "execution_count": 9,
   "id": "56feaa73",
   "metadata": {},
   "outputs": [],
   "source": [
    "# This is also needed for data validation\n",
    "# Only look at the orig_rotd(Since all the validation has been completed,\n",
    "#                            and we will be using the data created by the analysis.py)\n",
    "\n",
    "orig_rotd = np.zeros(len(temperature))\n",
    "me_rotd = np.zeros(len(temperature))\n",
    "\n",
    "for i in range(0, len(temperature)):\n",
    "    orig_rotd[i] = float(tst_out[i+273].split()[2])\n",
    "for i in range(0, len(temperature)):\n",
    "    me_rotd[i] = float(tst_out_me[i+61].split()[1])"
   ]
  },
  {
   "cell_type": "code",
   "execution_count": 10,
   "id": "9e551c11",
   "metadata": {},
   "outputs": [
    {
     "name": "stdout",
     "output_type": "stream",
     "text": [
      "[31.87 40.54 48.71 55.9  62.01 66.92 70.54 72.84 73.86 73.77 72.78 71.1\n",
      " 68.96 66.54 63.99 61.43 58.92 56.51 54.25 52.14 50.18 48.38 46.72 45.2\n",
      " 43.8  42.51 41.33 40.24 39.23 38.29 37.42 36.59 35.82 35.09 34.39 33.72\n",
      " 33.09 32.47 31.88 31.32 30.77 30.24 29.73 29.23 28.76 28.3  27.85 27.42\n",
      " 27.   26.6  26.21]\n",
      "51\n"
     ]
    }
   ],
   "source": [
    "print (orig_rotd)\n",
    "print (len(orig_rotd))"
   ]
  },
  {
   "cell_type": "code",
   "execution_count": 11,
   "id": "d63ae1e0",
   "metadata": {},
   "outputs": [
    {
     "name": "stdout",
     "output_type": "stream",
     "text": [
      "[46.98 53.04 56.15 58.12 60.08 62.17 64.16 65.77 66.8  67.19 66.94 66.15\n",
      " 64.93 63.4  61.65 59.79 57.89 55.99 54.13 52.33 50.62 48.99 47.45 46.\n",
      " 44.63 43.35 42.14 41.01 39.95 38.95 38.02 37.14 36.31 35.52 34.78 34.08\n",
      " 33.41 32.77 32.15 31.55 30.96 30.39 29.83 29.28 28.74 28.21 27.69 27.18\n",
      " 26.68 26.2  25.73]\n",
      "51\n"
     ]
    }
   ],
   "source": [
    "print (me_rotd)\n",
    "print (len(me_rotd))"
   ]
  },
  {
   "cell_type": "code",
   "execution_count": 12,
   "id": "25b21fb4",
   "metadata": {},
   "outputs": [
    {
     "name": "stdout",
     "output_type": "stream",
     "text": [
      "[30.77 39.7  47.91 54.96 60.83 65.49 68.85 70.9  71.71 71.47 70.41 68.76\n",
      " 66.72 64.45 62.08 59.7  57.37 55.14 53.02 51.02 49.16 47.43 45.82 44.34\n",
      " 42.98 41.72 40.56 39.49 38.51 37.6  36.75 35.95 35.21 34.5  33.83 33.19\n",
      " 32.57 31.98 31.41 30.85 30.32 29.8  29.3  28.82 28.36 27.92 27.5  27.1\n",
      " 26.72 26.36 26.01]\n",
      "51\n",
      "51\n"
     ]
    }
   ],
   "source": [
    "# This is to check whether the array made by the analysis.py has the same \n",
    "# number of data and length. Otherwise plot is not possible.\n",
    "\n",
    "#print (test)\n",
    "test2 = np.round(test,2)\n",
    "print (test2)\n",
    "print (len(test2))\n",
    "print (len(test))"
   ]
  },
  {
   "cell_type": "code",
   "execution_count": 13,
   "id": "197623fe",
   "metadata": {},
   "outputs": [
    {
     "data": {
      "text/plain": [
       "<matplotlib.legend.Legend at 0x7fe893083c70>"
      ]
     },
     "execution_count": 13,
     "metadata": {},
     "output_type": "execute_result"
    },
    {
     "data": {
      "image/png": "[encoded data removed]",
      "text/plain": [
       "<Figure size 432x288 with 1 Axes>"
      ]
     },
     "metadata": {
      "needs_background": "light"
     },
     "output_type": "display_data"
    }
   ],
   "source": [
    "import matplotlib.pyplot as plt\n",
    "\n",
    "fig = plt.figure()\n",
    "#fig.set_size_inches(4,3.5)\n",
    "ax = plt.subplot()\n",
    "ax.plot(temperature, orig_rotd, color ='r', linewidth = 2, label ='C++ rotd data')\n",
    "ax.plot(temperature, me_rotd, color ='orange', linewidth =2, label = 'Xi rotd data')\n",
    "ax.plot(temperature, test2, color ='b', linewidth =2, label ='My rotd data')\n",
    "ax.set_ylabel(\"Rate constant (cm$^3$s$^{-1}$)\",fontsize =12)\n",
    "ax.set_xlabel(\"Temperature (K)\", fontsize =12)\n",
    "ax.legend(loc='best')\n",
    "#fig.savefig('first_code_compare.pdf', bbox_inches='tight')"
   ]
  },
  {
   "cell_type": "code",
   "execution_count": 14,
   "id": "33ea90ee",
   "metadata": {},
   "outputs": [
    {
     "name": "stdout",
     "output_type": "stream",
     "text": [
      "[8.68965975e-12 8.40570565e-12 8.13503595e-12 7.87931120e-12\n",
      " 7.63853141e-12 7.41103602e-12 7.19848558e-12 6.99755899e-12\n",
      " 6.80991681e-12 6.63389847e-12 6.46784344e-12 6.31341226e-12\n",
      " 6.16728384e-12 6.02945816e-12 5.89827469e-12 5.77539397e-12\n",
      " 5.65915544e-12 5.54789857e-12 5.44162335e-12 5.33866923e-12\n",
      " 5.23903622e-12 5.14106375e-12 5.04641238e-12 4.95342156e-12\n",
      " 4.86209130e-12 4.77242158e-12 4.68441241e-12 4.59806380e-12\n",
      " 4.51337573e-12 4.43034822e-12 4.35064180e-12 4.27259594e-12]\n",
      "[8.65810930e-12 8.33264144e-12 8.03374238e-12 7.75809103e-12\n",
      " 7.50568738e-12 7.27321034e-12 7.05899935e-12 6.86305442e-12\n",
      " 6.68205443e-12 6.51433885e-12 6.35824712e-12 6.21377925e-12\n",
      " 6.07595357e-12 5.94809120e-12 5.82687103e-12 5.71063250e-12\n",
      " 5.59937563e-12 5.49476096e-12 5.39180684e-12 5.29383438e-12\n",
      " 5.20084356e-12 5.10951329e-12 5.02150413e-12 4.93681606e-12\n",
      " 4.85378855e-12 4.77574268e-12 4.69935737e-12 4.62463260e-12\n",
      " 4.55322894e-12 4.48348583e-12 4.41706381e-12 4.35230235e-12]\n",
      "[8.47212766e-12 8.16326531e-12 7.87599010e-12 7.60864150e-12\n",
      " 7.36288006e-12 7.13704522e-12 6.92781588e-12 6.73519204e-12\n",
      " 6.55751316e-12 6.39477923e-12 6.24366915e-12 6.10252238e-12\n",
      " 5.96967835e-12 5.84679763e-12 5.72889856e-12 5.61764169e-12\n",
      " 5.51136647e-12 5.40841235e-12 5.31043988e-12 5.21578851e-12\n",
      " 5.12279770e-12 5.03478853e-12 4.94843991e-12 4.86541240e-12\n",
      " 4.78570598e-12 4.70932067e-12 4.63625646e-12 4.56651334e-12\n",
      " 4.50009133e-12 4.43699042e-12 4.37721061e-12 4.31909135e-12]\n"
     ]
    }
   ],
   "source": [
    "# Divide the flux data with avogadro, to obtain the flux.\n",
    "\n",
    "index =np.where(temperature>300.0)\n",
    "temperature = temperature[index]\n",
    "avoga = 6.0221e12\n",
    "me_rotd = me_rotd[index]/avoga\n",
    "orig_rotd = orig_rotd[index]/avoga\n",
    "test3 = test2[index]/avoga\n",
    "\n",
    "print (me_rotd)\n",
    "print (orig_rotd)\n",
    "print (test3)"
   ]
  },
  {
   "cell_type": "code",
   "execution_count": 18,
   "id": "54349240",
   "metadata": {},
   "outputs": [
    {
     "data": {
      "image/png": "[encoded data removed]",
      "text/plain": [
       "<Figure size 288x252 with 1 Axes>"
      ]
     },
     "metadata": {
      "needs_background": "light"
     },
     "output_type": "display_data"
    }
   ],
   "source": [
    "fig = plt.figure()\n",
    "fig.set_size_inches(4,3.5)\n",
    "ax = plt.subplot(111)\n",
    "\n",
    "ax.plot(temperature, me_rotd, color='g', linestyle = '-', linewidth=2, label=\"Xi rotd\")\n",
    "ax.plot(temperature, orig_rotd, color='r', linestyle = '-', linewidth=2, label='C++ rotd')\n",
    "ax.plot(temperature, test3, color = 'b', linestyle= '-', linewidth=2, label = 'My result')\n",
    "plus_1 = orig_rotd * 1.05\n",
    "minus_1 = orig_rotd * 0.95\n",
    "ax.fill_between(temperature, plus_1, minus_1, facecolor='r', alpha=0.2, label='$\\pm$ 5%')\n",
    "ax.set_ylabel(\"k (cm$^3$ molecule$^{-1}$s$^{-1}$)\",fontsize =12)\n",
    "#ax.set_yscale('log')\n",
    "ax.set_xlabel(\"Temperature (K)\", fontsize = 10)   \n",
    "lgd = ax.legend(loc='best', fontsize=8)\n",
    "#fig.show()\n",
    "#fig.savefig('code_compare.pdf', bbox_inches='tight')"
   ]
  },
  {
   "cell_type": "code",
   "execution_count": null,
   "id": "92f03e98",
   "metadata": {},
   "outputs": [],
   "source": []
  }
 ],
 "metadata": {
  "kernelspec": {
   "display_name": "Python 3 (ipykernel)",
   "language": "python",
   "name": "python3"
  },
  "language_info": {
   "codemirror_mode": {
    "name": "ipython",
    "version": 3
   },
   "file_extension": ".py",
   "mimetype": "text/x-python",
   "name": "python",
   "nbconvert_exporter": "python",
   "pygments_lexer": "ipython3",
   "version": "3.8.12"
  }
 },
 "nbformat": 4,
 "nbformat_minor": 5
}
