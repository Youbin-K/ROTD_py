{
 "cells": [
  {
   "cell_type": "code",
   "execution_count": 1,
   "id": "4faa66dc",
   "metadata": {},
   "outputs": [],
   "source": [
    "import os, sys\n",
    "os.getcwd()\n",
    "#sys.path.append(/Users/youbinkim/Dropbox (Brown)/yungu/rotd_py)\n",
    "#os.chdir('../../../')\n",
    "sys.path.insert(0, '/Users/youbinkim/Dropbox (Brown)/yungu/')"
   ]
  },
  {
   "cell_type": "code",
   "execution_count": 2,
   "id": "ee83690e",
   "metadata": {},
   "outputs": [],
   "source": [
    "import numpy as np\n",
    "import ase\n",
    "#from rotd_py.analysis import *\n",
    "from rotd_py.analysis import get_micro, get_thermal, get_ej_flux, integrate_micro\n",
    "from scipy.integrate import simps\n",
    "import pandas as pd\n",
    "import rotd_py.rotd_math as rotd_math\n",
    "import fileinput\n",
    "#import string\n",
    "\n",
    "def generate_grid(start, interval, factor, num_point):                          \n",
    "    #return the grid needed for simulation                                      \n",
    "    #interval += interval * factor                                              \n",
    "    #start += interval                                                          \n",
    "    #return an numpy array with length of num_point                             \n",
    "    i = 1                                                                       \n",
    "    grid = [start]                                                              \n",
    "    for i in range(1, num_point):                                               \n",
    "        start += interval                                                       \n",
    "        grid.append(start)                                                      \n",
    "        interval = interval*factor                                              \n",
    "    return np.array(grid)                                                       \n",
    "\n",
    "# temperature, energy grid and angular momentum grid                            \n",
    "temperature = generate_grid(10, 10, 1.05, 51)                                   \n",
    "energy = generate_grid(0, 10, 1.05, 169)                                        \n",
    "angular_mom = generate_grid(0, 1, 1.1, 40) \n",
    "#os.getcwd()"
   ]
  },
  {
   "cell_type": "code",
   "execution_count": 3,
   "id": "83f6632f",
   "metadata": {},
   "outputs": [
    {
     "name": "stdout",
     "output_type": "stream",
     "text": [
      "0\n"
     ]
    },
    {
     "ename": "FileNotFoundError",
     "evalue": "[Errno 2] No such file or directory: 'surface_data_v0/surface_0.dat'",
     "output_type": "error",
     "traceback": [
      "\u001b[0;31m---------------------------------------------------------------------------\u001b[0m",
      "\u001b[0;31mFileNotFoundError\u001b[0m                         Traceback (most recent call last)",
      "\u001b[0;32m/var/folders/cf/bmwx3mj53971w4_9gngj_9m00000gn/T/ipykernel_35273/521107631.py\u001b[0m in \u001b[0;36m<module>\u001b[0;34m\u001b[0m\n\u001b[1;32m      3\u001b[0m \u001b[0;32mfor\u001b[0m \u001b[0mi\u001b[0m \u001b[0;32min\u001b[0m \u001b[0mrange\u001b[0m\u001b[0;34m(\u001b[0m\u001b[0;36m0\u001b[0m\u001b[0;34m,\u001b[0m \u001b[0mnum_surfaces\u001b[0m\u001b[0;34m)\u001b[0m\u001b[0;34m:\u001b[0m\u001b[0;34m\u001b[0m\u001b[0;34m\u001b[0m\u001b[0m\n\u001b[1;32m      4\u001b[0m     \u001b[0mprint\u001b[0m \u001b[0;34m(\u001b[0m\u001b[0mi\u001b[0m\u001b[0;34m)\u001b[0m\u001b[0;34m\u001b[0m\u001b[0;34m\u001b[0m\u001b[0m\n\u001b[0;32m----> 5\u001b[0;31m     \u001b[0mflux\u001b[0m \u001b[0;34m=\u001b[0m \u001b[0mget_micro\u001b[0m\u001b[0;34m(\u001b[0m\u001b[0;34m'surface_data_v0/surface_'\u001b[0m\u001b[0;34m+\u001b[0m\u001b[0mstr\u001b[0m\u001b[0;34m(\u001b[0m\u001b[0mi\u001b[0m\u001b[0;34m)\u001b[0m\u001b[0;34m+\u001b[0m\u001b[0;34m'.dat'\u001b[0m\u001b[0;34m,\u001b[0m \u001b[0mlen\u001b[0m\u001b[0;34m(\u001b[0m\u001b[0menergy\u001b[0m\u001b[0;34m)\u001b[0m\u001b[0;34m,\u001b[0m \u001b[0;36m0\u001b[0m\u001b[0;34m)\u001b[0m\u001b[0;34m\u001b[0m\u001b[0;34m\u001b[0m\u001b[0m\n\u001b[0m\u001b[1;32m      6\u001b[0m     \u001b[0me_flux\u001b[0m\u001b[0;34m[\u001b[0m\u001b[0mstr\u001b[0m\u001b[0;34m(\u001b[0m\u001b[0mi\u001b[0m\u001b[0;34m)\u001b[0m\u001b[0;34m]\u001b[0m  \u001b[0;34m=\u001b[0m \u001b[0mflux\u001b[0m\u001b[0;34m.\u001b[0m\u001b[0mcopy\u001b[0m\u001b[0;34m(\u001b[0m\u001b[0;34m)\u001b[0m\u001b[0;34m\u001b[0m\u001b[0;34m\u001b[0m\u001b[0m\n",
      "\u001b[0;32m~/Dropbox (Brown)/yungu/rotd_py/analysis.py\u001b[0m in \u001b[0;36mget_micro\u001b[0;34m(file_name, e_size, pes_index)\u001b[0m\n\u001b[1;32m     25\u001b[0m     \u001b[0;31m# this function does not separate the contribution from each facet\u001b[0m\u001b[0;34m\u001b[0m\u001b[0;34m\u001b[0m\u001b[0;34m\u001b[0m\u001b[0m\n\u001b[1;32m     26\u001b[0m     \u001b[0me_flux\u001b[0m \u001b[0;34m=\u001b[0m \u001b[0mnp\u001b[0m\u001b[0;34m.\u001b[0m\u001b[0mzeros\u001b[0m\u001b[0;34m(\u001b[0m\u001b[0me_size\u001b[0m\u001b[0;34m)\u001b[0m\u001b[0;34m\u001b[0m\u001b[0;34m\u001b[0m\u001b[0m\n\u001b[0;32m---> 27\u001b[0;31m     \u001b[0mlines\u001b[0m \u001b[0;34m=\u001b[0m \u001b[0mopen\u001b[0m\u001b[0;34m(\u001b[0m\u001b[0mfile_name\u001b[0m\u001b[0;34m)\u001b[0m\u001b[0;34m.\u001b[0m\u001b[0mreadlines\u001b[0m\u001b[0;34m(\u001b[0m\u001b[0;34m)\u001b[0m\u001b[0;34m\u001b[0m\u001b[0;34m\u001b[0m\u001b[0m\n\u001b[0m\u001b[1;32m     28\u001b[0m     \u001b[0;32mfor\u001b[0m \u001b[0mi\u001b[0m\u001b[0;34m,\u001b[0m \u001b[0mline\u001b[0m \u001b[0;32min\u001b[0m \u001b[0menumerate\u001b[0m\u001b[0;34m(\u001b[0m\u001b[0mlines\u001b[0m\u001b[0;34m)\u001b[0m\u001b[0;34m:\u001b[0m\u001b[0;34m\u001b[0m\u001b[0;34m\u001b[0m\u001b[0m\n\u001b[1;32m     29\u001b[0m         \u001b[0;32mif\u001b[0m \u001b[0mline\u001b[0m\u001b[0;34m.\u001b[0m\u001b[0mstartswith\u001b[0m\u001b[0;34m(\u001b[0m\u001b[0;34m'Microcanonical'\u001b[0m\u001b[0;34m)\u001b[0m\u001b[0;34m:\u001b[0m\u001b[0;34m\u001b[0m\u001b[0;34m\u001b[0m\u001b[0m\n",
      "\u001b[0;31mFileNotFoundError\u001b[0m: [Errno 2] No such file or directory: 'surface_data_v0/surface_0.dat'"
     ]
    }
   ],
   "source": [
    "e_flux = {}\n",
    "num_surfaces = 16\n",
    "for i in range(0, num_surfaces):\n",
    "    print (i)\n",
    "    flux = get_micro('surface_data_v0/surface_'+str(i)+'.dat', len(energy), 0)\n",
    "    e_flux[str(i)]  = flux.copy()"
   ]
  },
  {
   "cell_type": "code",
   "execution_count": null,
   "id": "15e280b7",
   "metadata": {},
   "outputs": [],
   "source": [
    "print (e_flux[str(i)])"
   ]
  },
  {
   "cell_type": "code",
   "execution_count": null,
   "id": "fa1bf7cc",
   "metadata": {},
   "outputs": [],
   "source": [
    "data = pd.DataFrame(e_flux)\n",
    "min_e_flux =  data.min(axis = 1)\n",
    "print (min_e_flux)"
   ]
  },
  {
   "cell_type": "code",
   "execution_count": null,
   "id": "c9f7c712",
   "metadata": {},
   "outputs": [],
   "source": [
    "# This calls out the integrate_micro function implemented in the analysis.py\n",
    "\n",
    "#print (integrate_micro(min_e_flux, energy, temperature, 9))\n",
    "test = integrate_micro(min_e_flux, energy, temperature, 9)\n",
    "print (test)"
   ]
  },
  {
   "cell_type": "code",
   "execution_count": null,
   "id": "a7d79bd7",
   "metadata": {},
   "outputs": [],
   "source": [
    "tst_out = open('C_surface_data/tst.out').readlines() # This is the C++ data, with output of tst.out\n",
    "tst_out_me = open('tst_me.out').readlines()\n",
    "\n",
    "# tst_me.out is the test data made by Xi\n",
    "# Made to validate the data, which is not necessary any more.\n",
    "# However, will keep this here, to explain the original overall process"
   ]
  },
  {
   "cell_type": "code",
   "execution_count": null,
   "id": "56feaa73",
   "metadata": {},
   "outputs": [],
   "source": [
    "# This is also needed for data validation\n",
    "# Only look at the orig_rotd(Since all the validation has been completed,\n",
    "#                            and we will be using the data created by the analysis.py)\n",
    "\n",
    "orig_rotd = np.zeros(len(temperature))\n",
    "me_rotd = np.zeros(len(temperature))\n",
    "\n",
    "for i in range(0, len(temperature)):\n",
    "    orig_rotd[i] = float(tst_out[i+273].split()[2])\n",
    "for i in range(0, len(temperature)):\n",
    "    me_rotd[i] = float(tst_out_me[i+61].split()[1])"
   ]
  },
  {
   "cell_type": "code",
   "execution_count": null,
   "id": "9e551c11",
   "metadata": {},
   "outputs": [],
   "source": [
    "print (orig_rotd)\n",
    "print (len(orig_rotd))"
   ]
  },
  {
   "cell_type": "code",
   "execution_count": null,
   "id": "d63ae1e0",
   "metadata": {},
   "outputs": [],
   "source": [
    "print (me_rotd)\n",
    "print (len(me_rotd))"
   ]
  },
  {
   "cell_type": "code",
   "execution_count": null,
   "id": "25b21fb4",
   "metadata": {},
   "outputs": [],
   "source": [
    "# This is to check whether the array made by the analysis.py has the same \n",
    "# number of data and length. Otherwise plot is not possible.\n",
    "\n",
    "#print (test)\n",
    "test2 = np.round(test,2)\n",
    "print (test2)\n",
    "print (len(test2))\n",
    "print (len(test))"
   ]
  },
  {
   "cell_type": "code",
   "execution_count": null,
   "id": "197623fe",
   "metadata": {},
   "outputs": [],
   "source": [
    "import matplotlib.pyplot as plt\n",
    "\n",
    "fig = plt.figure()\n",
    "#fig.set_size_inches(4,3.5)\n",
    "ax = plt.subplot()\n",
    "ax.plot(temperature, orig_rotd, color ='r', linewidth = 2, label ='C++ rotd data')\n",
    "ax.plot(temperature, me_rotd, color ='orange', linewidth =2, label = 'Xi rotd data')\n",
    "ax.plot(temperature, test2, color ='b', linewidth =2, label ='My rotd data')\n",
    "ax.set_ylabel(\"Rate constant (cm$^3$s$^{-1}$)\",fontsize =12)\n",
    "ax.set_xlabel(\"Temperature (K)\", fontsize =12)\n",
    "ax.legend(loc='best')\n",
    "#fig.savefig('first_code_compare.pdf', bbox_inches='tight')"
   ]
  },
  {
   "cell_type": "code",
   "execution_count": null,
   "id": "33ea90ee",
   "metadata": {},
   "outputs": [],
   "source": [
    "# Divide the flux data with avogadro, to obtain the flux.\n",
    "\n",
    "index =np.where(temperature>300.0)\n",
    "temperature = temperature[index]\n",
    "avoga = 6.0221e12\n",
    "me_rotd = me_rotd[index]/avoga\n",
    "orig_rotd = orig_rotd[index]/avoga\n",
    "test3 = test2[index]/avoga\n",
    "\n",
    "print (me_rotd)\n",
    "print (orig_rotd)\n",
    "print (test3)"
   ]
  },
  {
   "cell_type": "code",
   "execution_count": null,
   "id": "54349240",
   "metadata": {},
   "outputs": [],
   "source": [
    "fig = plt.figure()\n",
    "fig.set_size_inches(4,3.5)\n",
    "ax = plt.subplot(111)\n",
    "\n",
    "ax.plot(temperature, me_rotd, color='g', linestyle = '-', linewidth=2, label=\"Xi rotd\")\n",
    "ax.plot(temperature, orig_rotd, color='r', linestyle = '-', linewidth=2, label='C++ rotd')\n",
    "ax.plot(temperature, test3, color = 'b', linestyle= '-', linewidth=2, label = 'My result')\n",
    "plus_1 = orig_rotd * 1.05\n",
    "minus_1 = orig_rotd * 0.95\n",
    "ax.fill_between(temperature, plus_1, minus_1, facecolor='r', alpha=0.2, label='$\\pm$ 5%')\n",
    "ax.set_ylabel(\"k (cm$^3$ molecule$^{-1}$s$^{-1}$)\",fontsize =12)\n",
    "#ax.set_yscale('log')\n",
    "ax.set_xlabel(\"Temperature (K)\", fontsize = 10)   \n",
    "lgd = ax.legend(loc='best', fontsize=8)\n",
    "#fig.show()\n",
    "#fig.savefig('code_compare.pdf', bbox_inches='tight')"
   ]
  },
  {
   "cell_type": "code",
   "execution_count": null,
   "id": "92f03e98",
   "metadata": {},
   "outputs": [],
   "source": []
  }
 ],
 "metadata": {
  "kernelspec": {
   "display_name": "Python 3 (ipykernel)",
   "language": "python",
   "name": "python3"
  },
  "language_info": {
   "codemirror_mode": {
    "name": "ipython",
    "version": 3
   },
   "file_extension": ".py",
   "mimetype": "text/x-python",
   "name": "python",
   "nbconvert_exporter": "python",
   "pygments_lexer": "ipython3",
   "version": "3.8.12"
  }
 },
 "nbformat": 4,
 "nbformat_minor": 5
}
